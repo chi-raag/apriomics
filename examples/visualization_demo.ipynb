{
 "cells": [
  {
   "cell_type": "markdown",
   "metadata": {},
   "source": [
    "# Apriomics Visualization Demo\n",
    "\n",
    "This notebook demonstrates the visualization capabilities of the apriomics package for Bayesian metabolomics priors.\n",
    "\n",
    "## Features Demonstrated:\n",
    "1. **Markov Field Priors** from metabolic reaction networks\n",
    "2. **Bayesian Prior Distributions** with uncertainty quantification\n",
    "3. **Network Analysis** and statistics\n",
    "4. **Comprehensive Reporting**"
   ]
  },
  {
   "cell_type": "code",
   "execution_count": null,
   "metadata": {},
   "outputs": [],
   "source": [
    "# Setup and imports\n",
    "import sys\n",
    "import numpy as np\n",
    "import matplotlib.pyplot as plt\n",
    "from pathlib import Path\n",
    "from dataclasses import dataclass\n",
    "from typing import List\n",
    "import networkx\n",
    "\n",
    "# Add src to path for imports\n",
    "sys.path.insert(0, str(Path.cwd().parent / \"src\"))\n",
    "\n",
    "# Set matplotlib backend for Jupyter\n",
    "%matplotlib inline\n",
    "plt.style.use('default')\n",
    "plt.rcParams['figure.figsize'] = (10, 6)\n",
    "plt.rcParams['font.size'] = 10"
   ]
  },
  {
   "cell_type": "code",
   "execution_count": null,
   "metadata": {},
   "outputs": [
    {
     "name": "stdout",
     "output_type": "stream",
     "text": [
      "✅ Imports successful!\n"
     ]
    }
   ],
   "source": [
    "# Import apriomics components\n",
    "from apriomics.build_signed_edges import process_reactions\n",
    "from apriomics.visualization import MarkovFieldVisualizer, LLMPriorVisualizer, analyze_priors\n",
    "\n",
    "@dataclass\n",
    "class MetaboliteScore:\n",
    "    \"\"\"Simple structure for metabolite scoring with Bayesian priors.\"\"\"\n",
    "    metabolite: str\n",
    "    score: float\n",
    "    direction: str\n",
    "    rationale: str\n",
    "    expected_log2fc: float = 0.0\n",
    "    prior_sd: float = 0.5\n",
    "    magnitude: str = \"moderate\"\n",
    "    confidence: str = \"moderate\""
   ]
  },
  {
   "cell_type": "markdown",
   "metadata": {},
   "source": [
    "## 1. Create Example Data\n",
    "\n",
    "We'll create example signed edges from metabolic reactions and Bayesian prior scores for metabolites."
   ]
  },
  {
   "cell_type": "code",
   "execution_count": 4,
   "metadata": {},
   "outputs": [
    {
     "name": "stdout",
     "output_type": "stream",
     "text": [
      "Creating signed metabolic network...\n",
      "Generated 20 signed edges\n"
     ]
    }
   ],
   "source": [
    "def create_example_signed_edges():\n",
    "    \"\"\"Create example signed edges from metabolic reactions.\"\"\"\n",
    "    print(\"Creating signed metabolic network...\")\n",
    "    \n",
    "    # Create mock signed edges\n",
    "    metabolites = [\n",
    "        \"C00031\",  # D-Glucose\n",
    "        \"C00092\",  # D-Glucose 6-phosphate\n",
    "        \"C00085\",  # D-Fructose 6-phosphate\n",
    "        \"C00354\",  # D-Fructose 1,6-bisphosphate\n",
    "        \"C00111\",  # Glycerone phosphate\n",
    "        \"C00118\",  # D-Glyceraldehyde 3-phosphate\n",
    "        \"C00022\",  # Pyruvate\n",
    "        \"C00036\",  # Oxaloacetate\n",
    "        \"C00158\",  # Citrate\n",
    "        \"C00311\",  # Isocitrate\n",
    "    ]\n",
    "    \n",
    "    signed_edges = {}\n",
    "    \n",
    "    # Add substrate-product relationships (-1)\n",
    "    substrate_product_pairs = [\n",
    "        (\"C00031\", \"C00092\"),  # Glucose -> G6P\n",
    "        (\"C00092\", \"C00085\"),  # G6P -> F6P\n",
    "        (\"C00085\", \"C00354\"),  # F6P -> F1,6BP\n",
    "        (\"C00354\", \"C00111\"),  # F1,6BP -> DHAP\n",
    "        (\"C00354\", \"C00118\"),  # F1,6BP -> G3P\n",
    "        (\"C00118\", \"C00022\"),  # G3P -> Pyruvate\n",
    "        (\"C00158\", \"C00311\"),  # Citrate -> Isocitrate\n",
    "        (\"C00022\", \"C00036\"),  # Pyruvate -> Oxaloacetate\n",
    "        (\"C00036\", \"C00158\"),  # Oxaloacetate -> Citrate\n",
    "    ]\n",
    "    \n",
    "    for sub, prod in substrate_product_pairs:\n",
    "        signed_edges[(sub, prod)] = -1\n",
    "        signed_edges[(prod, sub)] = -1  # Reversible\n",
    "    \n",
    "    # Add same-side relationships (+1)\n",
    "    same_side_pairs = [\n",
    "        (\"C00111\", \"C00118\"),  # DHAP and G3P (both products of F1,6BP)\n",
    "        (\"C00092\", \"C00031\"),  # G6P and Glucose (related)\n",
    "        (\"C00158\", \"C00036\"),  # Citrate and Oxaloacetate (TCA cycle)\n",
    "    ]\n",
    "    \n",
    "    for met1, met2 in same_side_pairs:\n",
    "        signed_edges[(met1, met2)] = 1\n",
    "        signed_edges[(met2, met1)] = 1\n",
    "    \n",
    "    return signed_edges\n",
    "\n",
    "# Create the signed edges\n",
    "signed_edges = create_example_signed_edges()\n",
    "print(f\"Generated {len(signed_edges)} signed edges\")"
   ]
  },
  {
   "cell_type": "code",
   "execution_count": 5,
   "metadata": {},
   "outputs": [
    {
     "name": "stdout",
     "output_type": "stream",
     "text": [
      "Creating Bayesian metabolite prior scores...\n",
      "Generated 12 Bayesian prior scores\n"
     ]
    }
   ],
   "source": [
    "def create_example_bayesian_scores():\n",
    "    \"\"\"Create example Bayesian metabolite prior scores.\"\"\"\n",
    "    print(\"Creating Bayesian metabolite prior scores...\")\n",
    "    \n",
    "    # Example metabolites with realistic prior scoring for diabetes study\n",
    "    example_metabolites = [\n",
    "        (\"Glucose\", \"increase\", \"large\", \"high\", \"Primary substrate elevated in diabetes\"),\n",
    "        (\"Lactate\", \"increase\", \"moderate\", \"high\", \"Elevated due to anaerobic metabolism\"),\n",
    "        (\"Citrate\", \"decrease\", \"small\", \"moderate\", \"Reduced TCA cycle activity\"),\n",
    "        (\"Alanine\", \"increase\", \"small\", \"moderate\", \"Increased protein catabolism\"),\n",
    "        (\"Glutamine\", \"decrease\", \"moderate\", \"high\", \"Consumed for energy production\"),\n",
    "        (\"Pyruvate\", \"unclear\", \"moderate\", \"low\", \"Variable depending on metabolic state\"),\n",
    "        (\"Acetate\", \"minimal\", \"minimal\", \"high\", \"Generally stable across conditions\"),\n",
    "        (\"Creatine\", \"increase\", \"small\", \"moderate\", \"Muscle-related changes\"),\n",
    "        (\"Succinate\", \"increase\", \"moderate\", \"moderate\", \"Mitochondrial dysfunction marker\"),\n",
    "        (\"Fumarate\", \"increase\", \"small\", \"low\", \"Associated with metabolic stress\"),\n",
    "        (\"Glycine\", \"decrease\", \"small\", \"moderate\", \"Reduced in metabolic dysfunction\"),\n",
    "        (\"Serine\", \"increase\", \"small\", \"high\", \"Elevated in diabetes pathways\"),\n",
    "    ]\n",
    "    \n",
    "    bayesian_scores = []\n",
    "    \n",
    "    for metabolite, direction, magnitude, confidence, rationale in example_metabolites:\n",
    "        # Calculate expected log2fc and prior_sd based on direction and magnitude\n",
    "        direction_mapping = {\n",
    "            'increase': 1,\n",
    "            'decrease': -1,\n",
    "            'minimal': 0,\n",
    "            'unclear': 0\n",
    "        }\n",
    "        \n",
    "        magnitude_mapping = {\n",
    "            'minimal': 0.3,\n",
    "            'small': 0.6,\n",
    "            'moderate': 1.0,\n",
    "            'large': 1.6\n",
    "        }\n",
    "        \n",
    "        confidence_mapping = {\n",
    "            'high': 0.8,\n",
    "            'moderate': 1.0,\n",
    "            'low': 1.4\n",
    "        }\n",
    "        \n",
    "        expected_log2fc = direction_mapping[direction] * magnitude_mapping[magnitude]\n",
    "        prior_sd = 0.3 * magnitude_mapping[magnitude] * confidence_mapping[confidence]\n",
    "        \n",
    "        # Calculate importance score (0-1) based on abs(log2fc)\n",
    "        importance_score = min(abs(expected_log2fc) / 2.0, 1.0)\n",
    "        \n",
    "        score = MetaboliteScore(\n",
    "            metabolite=metabolite,\n",
    "            score=importance_score,\n",
    "            direction=direction,\n",
    "            rationale=rationale,\n",
    "            expected_log2fc=expected_log2fc,\n",
    "            prior_sd=prior_sd,\n",
    "            magnitude=magnitude,\n",
    "            confidence=confidence\n",
    "        )\n",
    "        \n",
    "        bayesian_scores.append(score)\n",
    "    \n",
    "    return bayesian_scores\n",
    "\n",
    "# Create the Bayesian scores\n",
    "bayesian_scores = create_example_bayesian_scores()\n",
    "print(f\"Generated {len(bayesian_scores)} Bayesian prior scores\")"
   ]
  },
  {
   "cell_type": "markdown",
   "metadata": {},
   "source": [
    "## 2. Initialize Visualizers\n",
    "\n",
    "Create visualizer instances for both Markov field and Bayesian priors."
   ]
  },
  {
   "cell_type": "code",
   "execution_count": 6,
   "metadata": {},
   "outputs": [
    {
     "name": "stdout",
     "output_type": "stream",
     "text": [
      "Creating visualizers...\n",
      "\n",
      "📊 Network Statistics:\n",
      "  error: NetworkX required for network statistics\n",
      "\n",
      "📊 Bayesian Prior Statistics:\n",
      "  num_metabolites: 12\n",
      "  mean_importance: 0.3416666666666666\n",
      "  std_importance: 0.2193309385519075\n",
      "  direction_distribution: {'increase': 7, 'decrease': 3, 'unclear': 1, 'minimal': 1}\n",
      "  confidence_distribution: {'high': 5, 'moderate': 5, 'low': 2}\n",
      "  magnitude_distribution: {'small': 6, 'moderate': 4, 'large': 1, 'minimal': 1}\n",
      "  mean_expected_log2fc: 0.3166666666666667\n",
      "  mean_prior_sd: 0.23099999999999998\n"
     ]
    }
   ],
   "source": [
    "# Create visualizers\n",
    "print(\"Creating visualizers...\")\n",
    "markov_viz = MarkovFieldVisualizer(signed_edges)\n",
    "bayesian_viz = LLMPriorVisualizer(bayesian_scores)\n",
    "\n",
    "# Display statistics\n",
    "print(\"\\n📊 Network Statistics:\")\n",
    "network_stats = markov_viz.get_network_statistics()\n",
    "for key, value in network_stats.items():\n",
    "    print(f\"  {key}: {value}\")\n",
    "\n",
    "print(\"\\n📊 Bayesian Prior Statistics:\")\n",
    "bayesian_stats = bayesian_viz.get_summary_statistics()\n",
    "for key, value in bayesian_stats.items():\n",
    "    print(f\"  {key}: {value}\")"
   ]
  },
  {
   "cell_type": "markdown",
   "metadata": {},
   "source": [
    "## 3. Markov Field Visualizations\n",
    "\n",
    "Visualize the signed metabolic network and its properties."
   ]
  },
  {
   "cell_type": "code",
   "execution_count": 7,
   "metadata": {},
   "outputs": [
    {
     "name": "stdout",
     "output_type": "stream",
     "text": [
      "🔗 Plotting signed metabolic network...\n",
      "❌ Network plot failed: NetworkX required for network visualization\n",
      "💡 This requires NetworkX. Try: uv add networkx\n"
     ]
    }
   ],
   "source": [
    "# Plot the signed metabolic network\n",
    "print(\"🔗 Plotting signed metabolic network...\")\n",
    "try:\n",
    "    fig1 = markov_viz.plot_network(figsize=(12, 8), node_size=500)\n",
    "    plt.tight_layout()\n",
    "    plt.show()\n",
    "    print(\"✅ Network plot generated successfully\")\n",
    "except Exception as e:\n",
    "    print(f\"❌ Network plot failed: {e}\")\n",
    "    print(\"💡 This requires NetworkX. Try: uv add networkx\")"
   ]
  },
  {
   "cell_type": "code",
   "execution_count": null,
   "metadata": {},
   "outputs": [],
   "source": [
    "# Plot the Laplacian matrix heatmap\n",
    "print(\"🔥 Plotting Laplacian matrix heatmap...\")\n",
    "try:\n",
    "    fig2 = markov_viz.plot_laplacian_heatmap(figsize=(10, 8))\n",
    "    plt.tight_layout()\n",
    "    plt.show()\n",
    "    print(\"✅ Laplacian heatmap generated successfully\")\n",
    "except Exception as e:\n",
    "    print(f\"❌ Laplacian heatmap failed: {e}\")"
   ]
  },
  {
   "cell_type": "code",
   "execution_count": null,
   "metadata": {},
   "outputs": [],
   "source": [
    "# Plot degree distribution\n",
    "print(\"📈 Plotting degree distribution...\")\n",
    "try:\n",
    "    fig3 = markov_viz.plot_degree_distribution(figsize=(12, 6))\n",
    "    plt.tight_layout()\n",
    "    plt.show()\n",
    "    print(\"✅ Degree distribution generated successfully\")\n",
    "except Exception as e:\n",
    "    print(f\"❌ Degree distribution failed: {e}\")\n",
    "    print(\"💡 This requires NetworkX. Try: uv add networkx\")"
   ]
  },
  {
   "cell_type": "markdown",
   "metadata": {},
   "source": [
    "## 4. Bayesian Prior Visualizations\n",
    "\n",
    "Visualize the Bayesian metabolite priors and their properties."
   ]
  },
  {
   "cell_type": "code",
   "execution_count": null,
   "metadata": {},
   "outputs": [],
   "source": [
    "# Plot importance scores\n",
    "print(\"⭐ Plotting Bayesian importance scores...\")\n",
    "try:\n",
    "    fig4 = bayesian_viz.plot_importance_scores(top_n=12, figsize=(12, 8))\n",
    "    plt.tight_layout()\n",
    "    plt.show()\n",
    "    print(\"✅ Importance scores generated successfully\")\n",
    "except Exception as e:\n",
    "    print(f\"❌ Importance scores failed: {e}\")"
   ]
  },
  {
   "cell_type": "code",
   "execution_count": null,
   "metadata": {},
   "outputs": [],
   "source": [
    "# Plot prior distributions\n",
    "print(\"📊 Plotting prior distributions...\")\n",
    "try:\n",
    "    fig5 = bayesian_viz.plot_prior_distributions(figsize=(15, 10))\n",
    "    plt.tight_layout()\n",
    "    plt.show()\n",
    "    print(\"✅ Prior distributions generated successfully\")\n",
    "except Exception as e:\n",
    "    print(f\"❌ Prior distributions failed: {e}\")"
   ]
  },
  {
   "cell_type": "code",
   "execution_count": null,
   "metadata": {},
   "outputs": [],
   "source": [
    "# Plot confidence analysis\n",
    "print(\"🎯 Plotting confidence analysis...\")\n",
    "try:\n",
    "    fig6 = bayesian_viz.plot_confidence_analysis(figsize=(12, 6))\n",
    "    plt.tight_layout()\n",
    "    plt.show()\n",
    "    print(\"✅ Confidence analysis generated successfully\")\n",
    "except Exception as e:\n",
    "    print(f\"❌ Confidence analysis failed: {e}\")"
   ]
  },
  {
   "cell_type": "code",
   "execution_count": null,
   "metadata": {},
   "outputs": [],
   "source": [
    "# Plot direction analysis\n",
    "print(\"🧭 Plotting direction analysis...\")\n",
    "try:\n",
    "    fig7 = bayesian_viz.plot_direction_analysis(figsize=(12, 8))\n",
    "    plt.tight_layout()\n",
    "    plt.show()\n",
    "    print(\"✅ Direction analysis generated successfully\")\n",
    "except Exception as e:\n",
    "    print(f\"❌ Direction analysis failed: {e}\")"
   ]
  },
  {
   "cell_type": "markdown",
   "metadata": {},
   "source": [
    "## 5. Interactive Exploration\n",
    "\n",
    "Create an interactive widget to explore individual metabolites (if ipywidgets is available)."
   ]
  },
  {
   "cell_type": "code",
   "execution_count": null,
   "metadata": {},
   "outputs": [],
   "source": [
    "# Try to create interactive explorer\n",
    "print(\"🔍 Creating interactive explorer...\")\n",
    "try:\n",
    "    interactive_widget = bayesian_viz.create_interactive_explorer()\n",
    "    if interactive_widget:\n",
    "        display(interactive_widget)\n",
    "        print(\"✅ Interactive explorer created!\")\n",
    "    else:\n",
    "        print(\"❌ Interactive explorer not available\")\n",
    "        print(\"💡 Install ipywidgets: uv add ipywidgets\")\n",
    "except Exception as e:\n",
    "    print(f\"❌ Interactive explorer failed: {e}\")\n",
    "    print(\"💡 Install ipywidgets: uv add ipywidgets\")"
   ]
  },
  {
   "cell_type": "markdown",
   "metadata": {},
   "source": [
    "## 6. Generate Comprehensive Report\n",
    "\n",
    "Create a comprehensive analysis report with all visualizations saved to files."
   ]
  },
  {
   "cell_type": "code",
   "execution_count": null,
   "metadata": {},
   "outputs": [],
   "source": [
    "# Generate comprehensive report\n",
    "print(\"📋 Generating comprehensive report...\")\n",
    "try:\n",
    "    analyze_priors(signed_edges, bayesian_scores, output_dir=\"../output/visualization_report\")\n",
    "    print(\"✅ Comprehensive report generated successfully!\")\n",
    "    print(\"📁 Check the '../output/visualization_report/' directory for saved plots and statistics\")\n",
    "except Exception as e:\n",
    "    print(f\"❌ Comprehensive report failed: {e}\")"
   ]
  },
  {
   "cell_type": "markdown",
   "metadata": {},
   "source": [
    "## 7. Summary and Next Steps\n",
    "\n",
    "The apriomics visualization suite provides comprehensive tools for analyzing metabolomics priors."
   ]
  },
  {
   "cell_type": "code",
   "execution_count": null,
   "metadata": {},
   "outputs": [],
   "source": [
    "print(\"🎉 APRIOMICS VISUALIZATION DEMO COMPLETED!\")\n",
    "print(\"=\" * 50)\n",
    "print(\"\\n📈 What you've seen:\")\n",
    "print(\"  ✅ Signed metabolic networks (Markov field priors)\")\n",
    "print(\"  ✅ Bayesian prior distributions with uncertainty\")\n",
    "print(\"  ✅ Comprehensive statistical analysis\")\n",
    "print(\"  ✅ Interactive exploration capabilities\")\n",
    "print(\"  ✅ Automated report generation\")\n",
    "\n",
    "print(\"\\n🚀 Next steps for your research:\")\n",
    "print(\"  1. Replace example data with your metabolomics data\")\n",
    "print(\"  2. Use chembridge for metabolite name standardization\")\n",
    "print(\"  3. Integrate with your Bayesian modeling pipeline\")\n",
    "print(\"  4. Customize visualizations for your specific needs\")\n",
    "print(\"  5. Share comprehensive reports with collaborators\")\n",
    "\n",
    "print(\"\\n📚 Learn more:\")\n",
    "print(\"  - Check the CLAUDE.md file for project documentation\")\n",
    "print(\"  - Explore examples/ directory for more use cases\")\n",
    "print(\"  - Read the visualization.py module for advanced customization\")"
   ]
  }
 ],
 "metadata": {
  "kernelspec": {
   "display_name": "apriomics (3.9.20)",
   "language": "python",
   "name": "python3"
  },
  "language_info": {
   "codemirror_mode": {
    "name": "ipython",
    "version": 3
   },
   "file_extension": ".py",
   "mimetype": "text/x-python",
   "name": "python",
   "nbconvert_exporter": "python",
   "pygments_lexer": "ipython3",
   "version": "3.9.20"
  }
 },
 "nbformat": 4,
 "nbformat_minor": 4
}
