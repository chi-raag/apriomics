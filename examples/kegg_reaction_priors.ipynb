{
 "cells": [
  {
   "cell_type": "markdown",
   "metadata": {},
   "source": [
    "# KEGG Reaction-Based Bayesian Priors\n",
    "\n",
    "This notebook demonstrates how to generate Bayesian priors for metabolomics from **real KEGG reaction data**.\n",
    "\n",
    "## Key Concepts:\n",
    "\n",
    "### **Signed Metabolic Networks**\n",
    "- **Negative edges (-1)**: Substrate-product relationships (anti-correlated)\n",
    "- **Positive edges (+1)**: Same-side metabolites (co-occurring, positively correlated)\n",
    "\n",
    "### **Graph Laplacian for Bayesian Priors**\n",
    "- **L = D - A** where D is degree matrix, A is adjacency matrix\n",
    "- Used as **precision matrix** in Gaussian process priors\n",
    "- Encodes prior belief that connected metabolites have correlated changes\n",
    "\n",
    "---"
   ]
  },
  {
   "cell_type": "code",
   "execution_count": null,
   "metadata": {},
   "outputs": [],
   "source": "# Setup and imports\nimport numpy as np\nimport matplotlib.pyplot as plt\n\n# Configure matplotlib\n%matplotlib inline\nplt.style.use('default')\nplt.rcParams['figure.figsize'] = (12, 8)\nplt.rcParams['font.size'] = 10\n\nprint(\"✅ Environment configured\")"
  },
  {
   "cell_type": "code",
   "execution_count": null,
   "metadata": {},
   "outputs": [],
   "source": "# Import apriomics components\nfrom apriomics.build_signed_edges import process_reactions\nfrom apriomics.visualization import MarkovFieldVisualizer\nfrom apriomics import kegg_utils\nfrom apriomics.kegg_utils_extended import get_metabolite_reaction_edges, filter_reactions_by_metabolite_overlap\n\nprint(\"✅ Apriomics components imported\")"
  },
  {
   "cell_type": "markdown",
   "metadata": {},
   "source": "## 1. Define Target Metabolites\n\nWe'll start with key metabolites from **glycolysis** and the **TCA cycle**, then find all reactions they participate in."
  },
  {
   "cell_type": "code",
   "execution_count": null,
   "metadata": {},
   "outputs": [],
   "source": "# Define target metabolites from core metabolic pathways\ntarget_metabolites = [\n    'C00031',  # D-Glucose\n    'C00092',  # D-Glucose-6-phosphate  \n    'C00085',  # D-Fructose-6-phosphate\n    'C00354',  # D-Fructose-1,6-bisphosphate\n    'C00022',  # Pyruvate\n    'C00024',  # Acetyl-CoA\n    'C00158',  # Citrate\n    'C00311',  # Isocitrate\n    'C00026',  # 2-Oxoglutarate (alpha-Ketoglutarate)\n    'C00042',  # Succinate\n    'C00122',  # Fumarate\n    'C00036',  # Oxaloacetate\n    'C00002',  # ATP\n    'C00008',  # ADP\n    'C00020',  # AMP\n]\n\nprint(f\"🧬 Starting with {len(target_metabolites)} key metabolites from glycolysis & TCA cycle\")\nprint(\"📡 Finding reactions that connect our target metabolites...\")\nprint(\"    (This automatically filters to reactions involving multiple targets)\")\n\n# Get all reaction IDs that involve multiple target metabolites\nfrom collections import defaultdict\nmetabolite_to_reactions = defaultdict(set)\n\nfor met_id in target_metabolites:\n    reactions = kegg_utils.get_reactions_for_compound(met_id)\n    metabolite_to_reactions[met_id].update(reactions)\n    print(f\"   {met_id}: {len(reactions)} reactions\")\n\n# Find reactions involving multiple target metabolites\nreaction_metabolite_count = defaultdict(int)\nfor met_id, reactions in metabolite_to_reactions.items():\n    for reaction in reactions:\n        reaction_metabolite_count[reaction] += 1\n\n# Keep only reactions involving 2+ target metabolites\nfiltered_reactions = [r for r, count in reaction_metabolite_count.items() if count >= 2]\n\nprint(f\"✅ Found {len(filtered_reactions)} reactions connecting multiple target metabolites\")\nprint(f\"   Reduction: {sum(len(r) for r in metabolite_to_reactions.values())} → {len(filtered_reactions)} total reactions\")\nprint(\"📡 Processing filtered reactions to build signed network...\")\n\n# Process reactions to get signed edges\ntry:\n    signed_edges = process_reactions(filtered_reactions)\n    print(f\"✅ Successfully processed {len(signed_edges)} signed edges\")\n    \n    # Get network statistics\n    all_metabolites = list(set([m for edge in signed_edges.keys() for m in edge]))\n    positive_edges = sum(1 for v in signed_edges.values() if v > 0)\n    negative_edges = sum(1 for v in signed_edges.values() if v < 0)\n    \n    print(f\"📊 Network Statistics:\")\n    print(f\"   Total metabolites: {len(all_metabolites)}\")\n    print(f\"   Total edges: {len(signed_edges)}\")\n    print(f\"   Positive edges (+1): {positive_edges}\")\n    print(f\"   Negative edges (-1): {negative_edges}\")\n    \nexcept Exception as e:\n    print(f\"❌ Error processing KEGG data: {e}\")\n    print(\"💡 Check internet connection or try again later\")\n    raise"
  },
  {
   "cell_type": "markdown",
   "metadata": {},
   "source": "## 2. Map KEGG IDs to Readable Names\n\nKEGG compound IDs (like C00022) are not very readable. Let's use chembridge to automatically map them to common metabolite names."
  },
  {
   "cell_type": "code",
   "execution_count": null,
   "metadata": {},
   "outputs": [],
   "source": "# Import chembridge for metabolite name lookup\nfrom chembridge import get_metabolite_name\n\ndef get_display_name(kegg_id):\n    \"\"\"Get readable name for KEGG compound ID using chembridge.\"\"\"\n    name = get_metabolite_name(kegg_id, source='auto', show_progress=False)\n    return name if name else kegg_id\n\n# Filter out common cofactors for cleaner visualization\nexclude_cofactors = {'C00001', 'C00080', 'C00004', 'C00003', 'C00005', 'C00006'}\nmain_metabolites = [m for m in all_metabolites if m not in exclude_cofactors]\n\nprint(f\"🧬 Main metabolites in network (excluding cofactors):\")\nfor met in sorted(main_metabolites):\n    name = get_display_name(met)\n    print(f\"   {met} → {name}\")\n\nprint(f\"\\n📊 Using {len(main_metabolites)} main metabolites for visualization\")"
  },
  {
   "cell_type": "markdown",
   "metadata": {},
   "source": [
    "## 3. Visualize the Signed Metabolic Network\n",
    "\n",
    "Let's create a signed adjacency matrix showing reaction relationships."
   ]
  },
  {
   "cell_type": "code",
   "execution_count": null,
   "metadata": {},
   "outputs": [],
   "source": [
    "# Select subset for clear visualization\n",
    "viz_metabolites = main_metabolites[:12]  # Top 12 for clarity\n",
    "subset_edges = {k: v for k, v in signed_edges.items() \n",
    "               if k[0] in viz_metabolites and k[1] in viz_metabolites}\n",
    "\n",
    "# Create adjacency matrix\n",
    "n = len(viz_metabolites)\n",
    "adj_matrix = np.zeros((n, n))\n",
    "met_to_idx = {met: i for i, met in enumerate(viz_metabolites)}\n",
    "\n",
    "for (met1, met2), sign in subset_edges.items():\n",
    "    i, j = met_to_idx[met1], met_to_idx[met2]\n",
    "    adj_matrix[i, j] = sign\n",
    "\n",
    "# Create the plot\n",
    "fig, ax = plt.subplots(figsize=(12, 10))\n",
    "im = ax.imshow(adj_matrix, cmap='RdBu_r', vmin=-1, vmax=1, aspect='auto')\n",
    "\n",
    "# Use readable names for labels\n",
    "display_names = [get_display_name(met) for met in viz_metabolites]\n",
    "\n",
    "ax.set_xticks(range(n))\n",
    "ax.set_yticks(range(n))\n",
    "ax.set_xticklabels(display_names, rotation=45, ha='right')\n",
    "ax.set_yticklabels(display_names)\n",
    "\n",
    "# Add colorbar\n",
    "cbar = plt.colorbar(im, ax=ax)\n",
    "cbar.set_label('KEGG Reaction Relationship', rotation=270, labelpad=20)\n",
    "cbar.set_ticks([-1, 0, 1])\n",
    "cbar.set_ticklabels(['Substrate→Product (-1)', 'No Relationship (0)', 'Same Reaction Side (+1)'])\n",
    "\n",
    "ax.set_title('Real KEGG Metabolic Network\\n(Signed Adjacency Matrix)', fontsize=14, fontweight='bold')\n",
    "\n",
    "# Add grid\n",
    "ax.set_xticks(np.arange(-0.5, n, 1), minor=True)\n",
    "ax.set_yticks(np.arange(-0.5, n, 1), minor=True)\n",
    "ax.grid(which='minor', color='gray', linestyle='-', linewidth=0.5, alpha=0.3)\n",
    "\n",
    "plt.tight_layout()\n",
    "plt.show()\n",
    "\n",
    "print(f\"📈 Visualization shows {len(subset_edges)} relationships between {n} metabolites\")"
   ]
  },
  {
   "cell_type": "markdown",
   "metadata": {},
   "source": [
    "## 4. Generate Graph Laplacian for Bayesian Priors\n",
    "\n",
    "The **graph Laplacian** (L = D - A) serves as the precision matrix for Bayesian modeling."
   ]
  },
  {
   "cell_type": "code",
   "execution_count": null,
   "metadata": {},
   "outputs": [],
   "source": [
    "# Create Markov field visualizer\n",
    "markov_viz = MarkovFieldVisualizer(signed_edges)\n",
    "\n",
    "# Generate Laplacian heatmap\n",
    "fig = markov_viz.plot_laplacian_heatmap(\n",
    "    metabolites=viz_metabolites,\n",
    "    figsize=(12, 10)\n",
    ")\n",
    "plt.show()\n",
    "\n",
    "print(\"📊 The Laplacian matrix encodes prior correlations:\")\n",
    "print(\"   • Diagonal: degree (connectivity) of each metabolite\")\n",
    "print(\"   • Off-diagonal: negative adjacency relationships\")\n",
    "print(\"   • Use as precision matrix Λ in: p(x) ∝ exp(-½x'Λx)\")"
   ]
  },
  {
   "cell_type": "markdown",
   "metadata": {},
   "source": [
    "## 5. Example Reaction Relationships\n",
    "\n",
    "Let's examine specific metabolite pairs and their relationships from KEGG reactions."
   ]
  },
  {
   "cell_type": "code",
   "execution_count": null,
   "metadata": {},
   "outputs": [],
   "source": [
    "# Show example relationships\n",
    "print(\"🔗 Example KEGG reaction relationships:\")\n",
    "print(\"=\" * 50)\n",
    "\n",
    "relationship_count = 0\n",
    "for (met1, met2), sign in subset_edges.items():\n",
    "    if relationship_count >= 10:  # Show first 10\n",
    "        break\n",
    "        \n",
    "    name1, name2 = get_display_name(met1), get_display_name(met2)\n",
    "    \n",
    "    if sign == -1:\n",
    "        rel_type = \"substrate→product\"\n",
    "        interpretation = \"anti-correlated (when one increases, other decreases)\"\n",
    "    else:\n",
    "        rel_type = \"same reaction side\"\n",
    "        interpretation = \"co-occurring (tend to change together)\"\n",
    "    \n",
    "    print(f\"{relationship_count + 1:2d}. {name1} ↔ {name2}\")\n",
    "    print(f\"    Relationship: {rel_type} ({sign:+d})\")\n",
    "    print(f\"    Bayesian prior: {interpretation}\")\n",
    "    print()\n",
    "    \n",
    "    relationship_count += 1\n",
    "\n",
    "if len(subset_edges) > 10:\n",
    "    print(f\"... and {len(subset_edges) - 10} more relationships\")"
   ]
  },
  {
   "cell_type": "markdown",
   "metadata": {},
   "source": [
    "## 6. Network Statistics and Insights\n",
    "\n",
    "Let's analyze the properties of our KEGG-derived network."
   ]
  },
  {
   "cell_type": "code",
   "execution_count": null,
   "metadata": {},
   "outputs": [],
   "source": [
    "# Calculate network statistics\n",
    "pos_edges = sum(1 for v in subset_edges.values() if v > 0)\n",
    "neg_edges = sum(1 for v in subset_edges.values() if v < 0)\n",
    "\n",
    "# Calculate degree for each metabolite\n",
    "degree_count = {}\n",
    "for met in viz_metabolites:\n",
    "    degree = sum(1 for (m1, m2) in subset_edges.keys() if m1 == met or m2 == met)\n",
    "    degree_count[met] = degree\n",
    "\n",
    "# Find most connected metabolites\n",
    "sorted_by_degree = sorted(degree_count.items(), key=lambda x: x[1], reverse=True)\n",
    "\n",
    "print(\"📊 KEGG Network Analysis\")\n",
    "print(\"=\" * 40)\n",
    "print(f\"Total metabolites visualized: {len(viz_metabolites)}\")\n",
    "print(f\"Total edges: {len(subset_edges)}\")\n",
    "print(f\"Positive edges (+1): {pos_edges} ({pos_edges/len(subset_edges)*100:.1f}%)\")\n",
    "print(f\"Negative edges (-1): {neg_edges} ({neg_edges/len(subset_edges)*100:.1f}%)\")\n",
    "print()\n",
    "print(\"🏆 Most connected metabolites:\")\n",
    "for i, (met, degree) in enumerate(sorted_by_degree[:5]):\n",
    "    name = get_display_name(met)\n",
    "    print(f\"{i+1:2d}. {name} ({met}): {degree} connections\")\n",
    "print()\n",
    "print(\"💡 Biological interpretation:\")\n",
    "print(\"   • Highly connected = central metabolites in pathways\")\n",
    "print(\"   • Negative edges = metabolic conversions (flux relationships)\")\n",
    "print(\"   • Positive edges = co-factors or pathway co-regulation\")"
   ]
  },
  {
   "cell_type": "markdown",
   "metadata": {},
   "source": [
    "## 7. Using These Priors in Bayesian Models\n",
    "\n",
    "Here's how to integrate these KEGG-derived priors into your Bayesian analysis."
   ]
  },
  {
   "cell_type": "code",
   "execution_count": null,
   "metadata": {},
   "outputs": [],
   "source": [
    "# Build the actual Laplacian matrix for use in modeling\n",
    "from apriomics.priors.graph_priors import build_laplacian_matrix\n",
    "\n",
    "# Build edges for our metabolite subset\n",
    "subset_edge_list = [(m1, m2) for (m1, m2) in subset_edges.keys()]\n",
    "\n",
    "# Build Laplacian matrix\n",
    "laplacian = build_laplacian_matrix(viz_metabolites, subset_edge_list)\n",
    "\n",
    "print(\"🎯 Using KEGG Priors in Bayesian Models\")\n",
    "print(\"=\" * 50)\n",
    "print(f\"Laplacian matrix shape: {laplacian.shape}\")\n",
    "print(f\"Matrix rank: {np.linalg.matrix_rank(laplacian)}\")\n",
    "print(f\"Condition number: {np.linalg.cond(laplacian + 1e-6 * np.eye(laplacian.shape[0])):.2e}\")\n",
    "print()\n",
    "print(\"📝 Example usage in your Bayesian model:\")\n",
    "print()\n",
    "print(\"```python\")\n",
    "print(\"# In your Gaussian Process or Bayesian regression:\")\n",
    "print(\"precision_matrix = laplacian + alpha * np.eye(n_metabolites)\")\n",
    "print(\"prior_covariance = np.linalg.inv(precision_matrix)\")\n",
    "print(\"\")\n",
    "print(\"# This encodes the belief that:\")\n",
    "print(\"# - Substrate-product pairs are anti-correlated\")\n",
    "print(\"# - Same-side metabolites are positively correlated\")\n",
    "print(\"# - Highly connected metabolites have stronger constraints\")\n",
    "print(\"```\")\n",
    "print()\n",
    "print(\"🎉 Your Bayesian model now incorporates known metabolic network structure!\")"
   ]
  },
  {
   "cell_type": "markdown",
   "metadata": {},
   "source": [
    "## Summary\n",
    "\n",
    "This notebook demonstrated how to:\n",
    "\n",
    "1. ✅ **Fetch real KEGG reaction data** from core metabolic pathways\n",
    "2. ✅ **Build signed metabolic networks** with substrate-product relationships\n",
    "3. ✅ **Generate graph Laplacian matrices** for Bayesian priors\n",
    "4. ✅ **Visualize network structure** with interpretable heatmaps\n",
    "5. ✅ **Integrate priors into Bayesian models** for informed metabolomics analysis\n",
    "\n",
    "### **Key Takeaway:**\n",
    "Instead of assuming metabolite independence, we now have **biologically-informed priors** based on known enzymatic reactions from KEGG. This leads to more realistic and interpretable Bayesian models for metabolomics data.\n",
    "\n",
    "---\n",
    "\n",
    "**Next steps:** Try this with your own metabolite list and specific KEGG pathways relevant to your study!"
   ]
  }
 ],
 "metadata": {
  "kernelspec": {
   "display_name": "Python 3",
   "language": "python",
   "name": "python3"
  },
  "language_info": {
   "codemirror_mode": {
    "name": "ipython",
    "version": 3
   },
   "file_extension": ".py",
   "mimetype": "text/x-python",
   "name": "python",
   "nbconvert_exporter": "python",
   "pygments_lexer": "ipython3",
   "version": "3.9.0"
  }
 },
 "nbformat": 4,
 "nbformat_minor": 4
}