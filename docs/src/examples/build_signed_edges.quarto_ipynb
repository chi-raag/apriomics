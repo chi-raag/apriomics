{
  "cells": [
    {
      "cell_type": "markdown",
      "metadata": {},
      "source": [
        "---\n",
        "title: \"Using `apriomics` to Build Signed Edges\"\n",
        "execute:\n",
        "  echo: true # Show the code blocks\n",
        "  eval: false # Do not execute the code blocks by default when rendering\n",
        "---\n",
        "\n",
        "## Overview\n",
        "\n",
        "This document demonstrates how to use the functions within the `apriomics` package to generate a signed edge graph based on KEGG reactions involving specified metabolites. The goal is to obtain a data structure representing relationships between metabolites within biochemical reactions:\n",
        "\n",
        "*   `sign = -1`: For substrate → product pairs.\n",
        "*   `sign = +1`: For pairs on the same side of a reaction (co-substrates or co-products).\n",
        "\n",
        "The core functions involved are:\n",
        "\n",
        "1.  `apriomics.kegg_utils.get_kegg_id_from_name`: Finds KEGG Compound IDs from metabolite names.\n",
        "2.  `apriomics.kegg_utils.get_reactions_for_compound`: Finds KEGG Reaction IDs associated with Compound IDs.\n",
        "3.  `apriomics.build_signed_edges.process_reactions`: Fetches reaction details and builds the signed edge dictionary.\n",
        "4.  `apriomics.build_signed_edges.write_signed_edges_csv`: Saves the graph to a CSV file.\n",
        "\n",
        "## Step-by-Step Example\n",
        "\n",
        "Let's walk through the process using \"Glucose\" and \"Pyruvate\" as example metabolites.\n",
        "\n",
        "### 1. Imports\n",
        "\n",
        "First, import the necessary functions:"
      ],
      "id": "67358f33"
    },
    {
      "cell_type": "code",
      "metadata": {},
      "source": [
        "from apriomics.build_signed_edges import process_reactions, write_signed_edges_csv\n",
        "from apriomics.kegg_utils import get_kegg_id_from_name, get_reactions_for_compound"
      ],
      "id": "206895ab",
      "execution_count": null,
      "outputs": []
    },
    {
      "cell_type": "markdown",
      "metadata": {},
      "source": [
        "### 2. Define Input Metabolites\n",
        "\n",
        "Specify the list of metabolite names you are interested in."
      ],
      "id": "db281dcb"
    },
    {
      "cell_type": "code",
      "metadata": {},
      "source": [
        "metabolite_names = [\"Glucose\", \"Pyruvate\"]"
      ],
      "id": "d82a5c9d",
      "execution_count": null,
      "outputs": []
    },
    {
      "cell_type": "markdown",
      "metadata": {},
      "source": [
        "### 3. Get KEGG Compound IDs\n",
        "\n",
        "Use `get_kegg_id_from_name` to find the corresponding KEGG Compound IDs. We'll collect them in a set to handle potential duplicates if multiple names map to the same ID."
      ],
      "id": "3119f864"
    },
    {
      "cell_type": "code",
      "metadata": {},
      "source": [
        "print(f\"Finding KEGG Compound IDs for: {metabolite_names}\")\n",
        "compound_ids = set()\n",
        "name_to_id_map = {}\n",
        "for name in metabolite_names:\n",
        "    # Using exact_match=True for more specific results\n",
        "    kegg_id = get_kegg_id_from_name(name, exact_match=True)\n",
        "    if kegg_id:\n",
        "        print(f\"  Found '{name}' -> {kegg_id}\")\n",
        "        compound_ids.add(kegg_id)\n",
        "        name_to_id_map[name] = kegg_id\n",
        "    else:\n",
        "        print(f\"  Warning: Could not find KEGG ID for '{name}'.\")\n",
        "\n",
        "# Check if we found any IDs\n",
        "if not compound_ids:\n",
        "    print(\"Error: No KEGG Compound IDs found. Cannot proceed.\")\n",
        "    # Handle error appropriately"
      ],
      "id": "f4ce0edd",
      "execution_count": null,
      "outputs": []
    },
    {
      "cell_type": "markdown",
      "metadata": {},
      "source": [
        "### 4. Get KEGG Reaction IDs\n",
        "\n",
        "Now, use `get_reactions_for_compound` for each Compound ID to find all associated KEGG Reaction IDs. We collect these in a set to get unique reactions."
      ],
      "id": "2c18fe78"
    },
    {
      "cell_type": "code",
      "metadata": {},
      "source": [
        "all_reaction_ids = set()\n",
        "if compound_ids:\n",
        "    for c_id in compound_ids:\n",
        "        reaction_ids = get_reactions_for_compound(c_id)\n",
        "        if reaction_ids:\n",
        "            print(f\"  Found {len(reaction_ids)} reactions for {c_id}\")\n",
        "            all_reaction_ids.update(reaction_ids)\n",
        "\n",
        "# Check if we found any reaction IDs\n",
        "if not all_reaction_ids:\n",
        "    print(\"Error: No KEGG Reaction IDs found for the specified compounds.\")\n",
        "    # Handle error appropriately"
      ],
      "id": "00f48856",
      "execution_count": null,
      "outputs": []
    },
    {
      "cell_type": "markdown",
      "metadata": {},
      "source": [
        "### 5. Process Reactions and Build Edges\n",
        "\n",
        "Pass the list of unique Reaction IDs to `process_reactions`. This function fetches the reaction details from KEGG and computes the signed edges.\n",
        "\n",
        "```python\n",
        "print(f\"\\nProcessing {len(all_reaction_ids)} unique reactions...\")\n",
        "edges_dict = {}\n",
        "if all_reaction_ids:\n",
        "    edges_dict = process_reactions(list(all_reaction_ids))\n",
        "\n",
        "# The edges_dict looks like: {('C00031', 'C00022'): -1, ('C00022', 'C00031'): -1, ...}\n",
        "# Keys are (metabolite_i_id, metabolite_j_id) tuples, values are sign (+1 or -1)\n",
        "\n",
        "if not edges_dict:\n",
        "    print(\"Warning: No edges were generated.\")\n",
        "else:\n",
        "    print(f\"Generated {len(edges_dict)} signed edges.\")\n",
        "    # Optionally, print a few example edges:\n",
        "    # count = 0\n",
        "    # for edge, sign in edges_dict.items():\n",
        "    #     print(f\"  Edge: {edge}, Sign: {sign}\")\n",
        "    #     count += 1\n",
        "    #     if count >= 5:\n",
        "    #         break\n",
        "```"
      ],
      "id": "1949a475"
    }
  ],
  "metadata": {
    "kernelspec": {
      "display_name": "Python 3",
      "language": "python",
      "name": "python3"
    }
  },
  "nbformat": 4,
  "nbformat_minor": 5
}